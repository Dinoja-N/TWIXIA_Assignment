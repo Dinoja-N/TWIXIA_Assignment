{
  "nbformat": 4,
  "nbformat_minor": 0,
  "metadata": {
    "colab": {
      "provenance": []
    },
    "kernelspec": {
      "name": "python3",
      "display_name": "Python 3"
    },
    "language_info": {
      "name": "python"
    }
  },
  "cells": [
    {
      "cell_type": "code",
      "source": [
        "pip install transformers"
      ],
      "metadata": {
        "colab": {
          "base_uri": "https://localhost:8080/"
        },
        "id": "Esnwcqvx1hT-",
        "outputId": "f3a574d8-441a-426e-8c24-f61874ca2591"
      },
      "execution_count": 1,
      "outputs": [
        {
          "output_type": "stream",
          "name": "stdout",
          "text": [
            "Requirement already satisfied: transformers in /usr/local/lib/python3.10/dist-packages (4.34.0)\n",
            "Requirement already satisfied: filelock in /usr/local/lib/python3.10/dist-packages (from transformers) (3.12.4)\n",
            "Requirement already satisfied: huggingface-hub<1.0,>=0.16.4 in /usr/local/lib/python3.10/dist-packages (from transformers) (0.16.4)\n",
            "Requirement already satisfied: numpy>=1.17 in /usr/local/lib/python3.10/dist-packages (from transformers) (1.23.5)\n",
            "Requirement already satisfied: packaging>=20.0 in /usr/local/lib/python3.10/dist-packages (from transformers) (23.1)\n",
            "Requirement already satisfied: pyyaml>=5.1 in /usr/local/lib/python3.10/dist-packages (from transformers) (6.0.1)\n",
            "Requirement already satisfied: regex!=2019.12.17 in /usr/local/lib/python3.10/dist-packages (from transformers) (2023.6.3)\n",
            "Requirement already satisfied: requests in /usr/local/lib/python3.10/dist-packages (from transformers) (2.31.0)\n",
            "Requirement already satisfied: tokenizers<0.15,>=0.14 in /usr/local/lib/python3.10/dist-packages (from transformers) (0.14.0)\n",
            "Requirement already satisfied: safetensors>=0.3.1 in /usr/local/lib/python3.10/dist-packages (from transformers) (0.3.3)\n",
            "Requirement already satisfied: tqdm>=4.27 in /usr/local/lib/python3.10/dist-packages (from transformers) (4.66.1)\n",
            "Requirement already satisfied: fsspec in /usr/local/lib/python3.10/dist-packages (from huggingface-hub<1.0,>=0.16.4->transformers) (2023.6.0)\n",
            "Requirement already satisfied: typing-extensions>=3.7.4.3 in /usr/local/lib/python3.10/dist-packages (from huggingface-hub<1.0,>=0.16.4->transformers) (4.5.0)\n",
            "Requirement already satisfied: charset-normalizer<4,>=2 in /usr/local/lib/python3.10/dist-packages (from requests->transformers) (3.2.0)\n",
            "Requirement already satisfied: idna<4,>=2.5 in /usr/local/lib/python3.10/dist-packages (from requests->transformers) (3.4)\n",
            "Requirement already satisfied: urllib3<3,>=1.21.1 in /usr/local/lib/python3.10/dist-packages (from requests->transformers) (2.0.5)\n",
            "Requirement already satisfied: certifi>=2017.4.17 in /usr/local/lib/python3.10/dist-packages (from requests->transformers) (2023.7.22)\n"
          ]
        }
      ]
    },
    {
      "cell_type": "code",
      "execution_count": 2,
      "metadata": {
        "id": "S4mFY7Hf1Opu"
      },
      "outputs": [],
      "source": [
        "import pandas as pd\n",
        "import numpy as np\n",
        "from transformers import BertTokenizer, BertModel, AdamW\n",
        "from sklearn.model_selection import train_test_split\n",
        "import torch\n",
        "import torch.nn as nn\n",
        "from torch.utils.data import DataLoader, TensorDataset"
      ]
    },
    {
      "cell_type": "code",
      "source": [
        "# Load and preprocess your dataset (replace 'your_dataset.csv' with your actual dataset)\n",
        "data = pd.read_csv('shoe_sales_dataset.csv')"
      ],
      "metadata": {
        "id": "ytgcBRi01fy-"
      },
      "execution_count": 3,
      "outputs": []
    },
    {
      "cell_type": "code",
      "source": [
        "data.info()"
      ],
      "metadata": {
        "colab": {
          "base_uri": "https://localhost:8080/"
        },
        "id": "H7TooGmi1-B4",
        "outputId": "8b72f76c-9deb-4dae-8400-318ee70f50ce"
      },
      "execution_count": 4,
      "outputs": [
        {
          "output_type": "stream",
          "name": "stdout",
          "text": [
            "<class 'pandas.core.frame.DataFrame'>\n",
            "RangeIndex: 155 entries, 0 to 154\n",
            "Data columns (total 5 columns):\n",
            " #   Column        Non-Null Count  Dtype \n",
            "---  ------        --------------  ----- \n",
            " 0   Product Name  155 non-null    object\n",
            " 1   Category      155 non-null    object\n",
            " 2   Brand         155 non-null    object\n",
            " 3   Price         154 non-null    object\n",
            " 4   Size          154 non-null    object\n",
            "dtypes: object(5)\n",
            "memory usage: 6.2+ KB\n"
          ]
        }
      ]
    },
    {
      "cell_type": "code",
      "source": [
        "print(data.head())"
      ],
      "metadata": {
        "colab": {
          "base_uri": "https://localhost:8080/"
        },
        "id": "9SonL1fg1-Em",
        "outputId": "f9f11593-fbad-4cc7-d398-a88d0970859e"
      },
      "execution_count": 5,
      "outputs": [
        {
          "output_type": "stream",
          "name": "stdout",
          "text": [
            "       Product Name   Category          Brand    Price  Size\n",
            "0     Running Shoes   Athletic           Nike    99.99    10\n",
            "1   Casual Sneakers     Casual         Adidas    79.99     9\n",
            "2  Basketball Shoes   Athletic         Jordan   129.99    11\n",
            "3       Dress Shoes     Formal   Calvin Klein   149.99   8.5\n",
            "4      Hiking Boots    Outdoor       Columbia    89.99   9.5\n"
          ]
        }
      ]
    },
    {
      "cell_type": "code",
      "source": [
        "print(data.tail())"
      ],
      "metadata": {
        "colab": {
          "base_uri": "https://localhost:8080/"
        },
        "id": "Cdt-1Dns2L5l",
        "outputId": "64ed64f2-2ebd-47c4-95d2-449c17f27c74"
      },
      "execution_count": 6,
      "outputs": [
        {
          "output_type": "stream",
          "name": "stdout",
          "text": [
            "         Product Name   Category      Brand    Price Size\n",
            "150     Slip-on Shoes     Casual   Converse    69.99    9\n",
            "151     Running Shoes   Athletic       Nike    99.99   10\n",
            "152   Casual Sneakers     Casual     Adidas    79.99    8\n",
            "153  Basketball Shoes   Athletic     Jordan   129.99   11\n",
            "154       Dress Shoes     Formal     Calvin      NaN  NaN\n"
          ]
        }
      ]
    },
    {
      "cell_type": "code",
      "source": [
        "# Drop rows with missing values\n",
        "data.dropna(inplace=True)"
      ],
      "metadata": {
        "id": "i7QGwa7Z2n8T"
      },
      "execution_count": 7,
      "outputs": []
    },
    {
      "cell_type": "code",
      "source": [
        "data.isnull().sum()"
      ],
      "metadata": {
        "colab": {
          "base_uri": "https://localhost:8080/"
        },
        "id": "t06kDnNh2OFN",
        "outputId": "511328f1-0bad-4d39-c7db-7494986a4e2a"
      },
      "execution_count": 8,
      "outputs": [
        {
          "output_type": "execute_result",
          "data": {
            "text/plain": [
              "Product Name    0\n",
              "Category        0\n",
              "Brand           0\n",
              "Price           0\n",
              "Size            0\n",
              "dtype: int64"
            ]
          },
          "metadata": {},
          "execution_count": 8
        }
      ]
    },
    {
      "cell_type": "code",
      "source": [
        "data = data.dropna()"
      ],
      "metadata": {
        "id": "jsewi2407p44"
      },
      "execution_count": 9,
      "outputs": []
    },
    {
      "cell_type": "code",
      "source": [
        "data.info()"
      ],
      "metadata": {
        "colab": {
          "base_uri": "https://localhost:8080/"
        },
        "id": "_va7-Omz203U",
        "outputId": "d281f616-90a8-40eb-a51b-4e929a55dfd7"
      },
      "execution_count": 10,
      "outputs": [
        {
          "output_type": "stream",
          "name": "stdout",
          "text": [
            "<class 'pandas.core.frame.DataFrame'>\n",
            "Int64Index: 154 entries, 0 to 153\n",
            "Data columns (total 5 columns):\n",
            " #   Column        Non-Null Count  Dtype \n",
            "---  ------        --------------  ----- \n",
            " 0   Product Name  154 non-null    object\n",
            " 1   Category      154 non-null    object\n",
            " 2   Brand         154 non-null    object\n",
            " 3   Price         154 non-null    object\n",
            " 4   Size          154 non-null    object\n",
            "dtypes: object(5)\n",
            "memory usage: 7.2+ KB\n"
          ]
        }
      ]
    },
    {
      "cell_type": "code",
      "source": [
        "# Define a dictionary mapping old column names to new names\n",
        "column_name_mapping = {\n",
        "    'Product Name': 'product_name'\n",
        "}"
      ],
      "metadata": {
        "id": "iSCI8gmr2XHo"
      },
      "execution_count": 11,
      "outputs": []
    },
    {
      "cell_type": "code",
      "source": [
        "# Rename the columns using .rename()\n",
        "data.rename(columns=column_name_mapping, inplace=True)"
      ],
      "metadata": {
        "id": "6WLDRvYh2ycu"
      },
      "execution_count": 12,
      "outputs": []
    },
    {
      "cell_type": "code",
      "source": [
        "data.info()"
      ],
      "metadata": {
        "colab": {
          "base_uri": "https://localhost:8080/"
        },
        "id": "oFfZMYhT2yfN",
        "outputId": "99523ce2-742f-43c1-8f69-ce1845d9f0bc"
      },
      "execution_count": 13,
      "outputs": [
        {
          "output_type": "stream",
          "name": "stdout",
          "text": [
            "<class 'pandas.core.frame.DataFrame'>\n",
            "Int64Index: 154 entries, 0 to 153\n",
            "Data columns (total 5 columns):\n",
            " #   Column        Non-Null Count  Dtype \n",
            "---  ------        --------------  ----- \n",
            " 0   product_name  154 non-null    object\n",
            " 1   Category      154 non-null    object\n",
            " 2   Brand         154 non-null    object\n",
            " 3   Price         154 non-null    object\n",
            " 4   Size          154 non-null    object\n",
            "dtypes: object(5)\n",
            "memory usage: 7.2+ KB\n"
          ]
        }
      ]
    },
    {
      "cell_type": "code",
      "source": [
        "data['Price'] = pd.to_numeric(data['Price'], errors='coerce')"
      ],
      "metadata": {
        "id": "xlj2T6Rw3djt"
      },
      "execution_count": 14,
      "outputs": []
    },
    {
      "cell_type": "code",
      "source": [
        "data.info()"
      ],
      "metadata": {
        "colab": {
          "base_uri": "https://localhost:8080/"
        },
        "id": "oolqoCyf34mq",
        "outputId": "b2d3c849-8b10-44d6-e97d-9e5168c09645"
      },
      "execution_count": 15,
      "outputs": [
        {
          "output_type": "stream",
          "name": "stdout",
          "text": [
            "<class 'pandas.core.frame.DataFrame'>\n",
            "Int64Index: 154 entries, 0 to 153\n",
            "Data columns (total 5 columns):\n",
            " #   Column        Non-Null Count  Dtype  \n",
            "---  ------        --------------  -----  \n",
            " 0   product_name  154 non-null    object \n",
            " 1   Category      154 non-null    object \n",
            " 2   Brand         154 non-null    object \n",
            " 3   Price         153 non-null    float64\n",
            " 4   Size          154 non-null    object \n",
            "dtypes: float64(1), object(4)\n",
            "memory usage: 7.2+ KB\n"
          ]
        }
      ]
    },
    {
      "cell_type": "code",
      "source": [
        "# Check for missing values\n",
        "print(data.isnull().sum())"
      ],
      "metadata": {
        "colab": {
          "base_uri": "https://localhost:8080/"
        },
        "id": "7A02oAmj8udr",
        "outputId": "49ebd799-4f3e-473e-9871-1af8253f9280"
      },
      "execution_count": 16,
      "outputs": [
        {
          "output_type": "stream",
          "name": "stdout",
          "text": [
            "product_name    0\n",
            "Category        0\n",
            "Brand           0\n",
            "Price           1\n",
            "Size            0\n",
            "dtype: int64\n"
          ]
        }
      ]
    },
    {
      "cell_type": "code",
      "source": [
        "data = data.dropna()"
      ],
      "metadata": {
        "id": "cs8QJkkD8y5N"
      },
      "execution_count": 17,
      "outputs": []
    },
    {
      "cell_type": "code",
      "source": [
        "# Split the data into features (X) and target (y)\n",
        "X = data[['product_name', 'Category', 'Brand', 'Size']]\n",
        "y = data['Price']"
      ],
      "metadata": {
        "id": "49JV9WVf377f"
      },
      "execution_count": 18,
      "outputs": []
    },
    {
      "cell_type": "code",
      "source": [
        "# Split the data into training and testing sets\n",
        "X_train, X_test, y_train, y_test = train_test_split(X, y, test_size=0.2, random_state=42)"
      ],
      "metadata": {
        "id": "gvXyRKYg50Zo"
      },
      "execution_count": 19,
      "outputs": []
    },
    {
      "cell_type": "code",
      "source": [
        "# Initialize the BERT tokenizer\n",
        "tokenizer = BertTokenizer.from_pretrained('bert-base-uncased')"
      ],
      "metadata": {
        "id": "3uIRrAxt4Gj0"
      },
      "execution_count": 20,
      "outputs": []
    },
    {
      "cell_type": "code",
      "source": [
        "# Encode the text features for both training and testing data\n",
        "X_train_encoded = tokenizer(list(X_train['product_name']), truncation=True, padding=True, return_tensors='pt', max_length=128)\n",
        "X_test_encoded = tokenizer(list(X_test['product_name']), truncation=True, padding=True, return_tensors='pt', max_length=128)"
      ],
      "metadata": {
        "id": "V46LVwuw5j-u"
      },
      "execution_count": 21,
      "outputs": []
    },
    {
      "cell_type": "code",
      "source": [
        "# Define the BERT model\n",
        "class BertRegressionModel(nn.Module):\n",
        "    def __init__(self):\n",
        "        super(BertRegressionModel, self).__init__()\n",
        "        self.bert = BertModel.from_pretrained('bert-base-uncased')\n",
        "        self.linear = nn.Linear(self.bert.config.hidden_size, 1)\n",
        "\n",
        "    def forward(self, input_ids, attention_mask):\n",
        "        outputs = self.bert(input_ids, attention_mask=attention_mask)\n",
        "        logits = self.linear(outputs.pooler_output)\n",
        "        return logits\n",
        "\n",
        "model = BertRegressionModel()"
      ],
      "metadata": {
        "id": "8lS9__mo5g8g"
      },
      "execution_count": 22,
      "outputs": []
    },
    {
      "cell_type": "code",
      "source": [
        "# Define the optimizer\n",
        "optimizer = AdamW(model.parameters(), lr=1e-5)"
      ],
      "metadata": {
        "id": "0f8jzPoB4pws",
        "colab": {
          "base_uri": "https://localhost:8080/"
        },
        "outputId": "89731c33-9ba2-4082-a891-f79e4cb9c8eb"
      },
      "execution_count": 23,
      "outputs": [
        {
          "output_type": "stream",
          "name": "stderr",
          "text": [
            "/usr/local/lib/python3.10/dist-packages/transformers/optimization.py:411: FutureWarning: This implementation of AdamW is deprecated and will be removed in a future version. Use the PyTorch implementation torch.optim.AdamW instead, or set `no_deprecation_warning=True` to disable this warning\n",
            "  warnings.warn(\n"
          ]
        }
      ]
    },
    {
      "cell_type": "code",
      "source": [
        "# Convert data to PyTorch tensors\n",
        "y_train = torch.tensor(y_train.values, dtype=torch.float32)\n",
        "y_test = torch.tensor(y_test.values, dtype=torch.float32)"
      ],
      "metadata": {
        "id": "1tvZcunE4pzm"
      },
      "execution_count": 24,
      "outputs": []
    },
    {
      "cell_type": "code",
      "source": [
        "# Create DataLoader for training and testing\n",
        "train_dataset = TensorDataset(X_train_encoded['input_ids'], X_train_encoded['attention_mask'], y_train)\n",
        "train_loader = DataLoader(train_dataset, batch_size=16, shuffle=True)\n",
        "test_dataset = TensorDataset(X_test_encoded['input_ids'], X_test_encoded['attention_mask'], y_test)\n",
        "test_loader = DataLoader(test_dataset, batch_size=16, shuffle=False)"
      ],
      "metadata": {
        "id": "NgSykASd6S9X"
      },
      "execution_count": 25,
      "outputs": []
    },
    {
      "cell_type": "code",
      "source": [
        "# Train the model\n",
        "model.train()\n",
        "for epoch in range(10):  # Adjust the number of epochs as needed\n",
        "    for batch in train_loader:\n",
        "        input_ids, attention_mask, target = batch\n",
        "        optimizer.zero_grad()\n",
        "        logits = model(input_ids, attention_mask)\n",
        "        loss = nn.MSELoss()(logits.squeeze(), target)\n",
        "        loss.backward()\n",
        "        optimizer.step()"
      ],
      "metadata": {
        "id": "kM1e_PiT6TAz"
      },
      "execution_count": 26,
      "outputs": []
    },
    {
      "cell_type": "code",
      "source": [
        "# Evaluation on the test set\n",
        "model.eval()\n",
        "with torch.no_grad():\n",
        "    predictions = []\n",
        "    for batch in test_loader:\n",
        "        input_ids, attention_mask, _ = batch\n",
        "        batch_predictions = model(input_ids, attention_mask).squeeze()\n",
        "        predictions.extend(batch_predictions.tolist())"
      ],
      "metadata": {
        "id": "8IeqTWdL6Zjh"
      },
      "execution_count": 27,
      "outputs": []
    },
    {
      "cell_type": "code",
      "source": [
        "# Evaluate model performance (e.g., calculate RMSE, MAE, etc.)\n",
        "from sklearn.metrics import mean_squared_error, mean_absolute_error, r2_score\n",
        "rmse = np.sqrt(mean_squared_error(y_test, predictions))\n",
        "mae = mean_absolute_error(y_test, predictions)\n",
        "r2 = r2_score(y_test, predictions)"
      ],
      "metadata": {
        "id": "o4QrBBb56aFi"
      },
      "execution_count": 28,
      "outputs": []
    },
    {
      "cell_type": "code",
      "source": [
        "print(f\"RMSE: {rmse}\")\n",
        "print(f\"MAE: {mae}\")\n",
        "print(f\"R^2: {r2}\")"
      ],
      "metadata": {
        "colab": {
          "base_uri": "https://localhost:8080/"
        },
        "id": "nD0muoqO_GmT",
        "outputId": "25098860-f7fc-40af-c158-78bf7383919a"
      },
      "execution_count": 30,
      "outputs": [
        {
          "output_type": "stream",
          "name": "stdout",
          "text": [
            "RMSE: 136.87191680727736\n",
            "MAE: 109.47845100587413\n",
            "R^2: -1.7755668793628905\n"
          ]
        }
      ]
    },
    {
      "cell_type": "code",
      "source": [
        "import torch"
      ],
      "metadata": {
        "id": "voSd_qgJ_Nqh"
      },
      "execution_count": 31,
      "outputs": []
    },
    {
      "cell_type": "code",
      "source": [
        "# Function to use the trained model for price comparison\n",
        "def predict_price(product_name, category, brand, size, model, tokenizer):\n",
        "    # Prepare input data\n",
        "    input_text = f\"{product_name} {category} {brand} {size}\"\n",
        "\n",
        "    # Encode the input text using the tokenizer\n",
        "    inputs = tokenizer(input_text, truncation=True, padding=True, return_tensors='pt', max_length=128)\n",
        "\n",
        "    # Ensure the model is in evaluation mode\n",
        "    model.eval()\n",
        "\n",
        "    # Make a prediction\n",
        "    with torch.no_grad():\n",
        "        prediction = model(inputs['input_ids'], inputs['attention_mask']).squeeze().item()\n",
        "\n",
        "    return prediction"
      ],
      "metadata": {
        "id": "BL8KzLpO_7rI"
      },
      "execution_count": 32,
      "outputs": []
    },
    {
      "cell_type": "code",
      "source": [
        "# Example usage:\n",
        "product_name = \"Running Shoes\"\n",
        "category = \"Athletic\"\n",
        "brand = \"Nike\"\n",
        "size = 10\n"
      ],
      "metadata": {
        "id": "8Pjw3X4m_9ab"
      },
      "execution_count": 33,
      "outputs": []
    },
    {
      "cell_type": "code",
      "source": [
        "predicted_price = predict_price(product_name, category, brand, size, model, tokenizer)\n",
        "print(f\"Predicted Price: ${predicted_price:.2f}\")"
      ],
      "metadata": {
        "colab": {
          "base_uri": "https://localhost:8080/"
        },
        "id": "b9yfRhj5__9-",
        "outputId": "8fc0bae4-4a1b-4271-e0d0-7b9507a4fe10"
      },
      "execution_count": 34,
      "outputs": [
        {
          "output_type": "stream",
          "name": "stdout",
          "text": [
            "Predicted Price: $5.99\n"
          ]
        }
      ]
    },
    {
      "cell_type": "code",
      "source": [
        "import torch"
      ],
      "metadata": {
        "id": "UNBaOKWrCh2a"
      },
      "execution_count": 35,
      "outputs": []
    },
    {
      "cell_type": "code",
      "source": [
        "def compare_prices(product_name, category, brand, size, model, tokenizer):\n",
        "    # Prepare input data\n",
        "    input_text = f\"{product_name} {category} {brand} {size}\"\n",
        "\n",
        "    # Encode the input text using the tokenizer\n",
        "    inputs = tokenizer(input_text, truncation=True, padding=True, return_tensors='pt', max_length=128)\n",
        "\n",
        "    # Ensure the model is in evaluation mode\n",
        "    model.eval()\n",
        "\n",
        "    # Make a prediction\n",
        "    with torch.no_grad():\n",
        "        predicted_price = model(inputs['input_ids'], inputs['attention_mask']).squeeze().item()\n",
        "\n",
        "    # Example comparison data (you should replace this with real data):\n",
        "    historical_price = 110\n",
        "    competitor_prices = {\"Adidas\": 120, \"Reebok\": 95}\n",
        "    retailer_prices = {\"Nike Store\": 100, \"Retailer A\": 95, \"Retailer B\": 105}\n",
        "\n",
        "    # Create a comparison report\n",
        "    comparison_report = f\"Product: {product_name}\\n\"\n",
        "    comparison_report += f\"Predicted Price: ${predicted_price:.2f}\\n\\n\"\n",
        "\n",
        "    # Historical Price Comparison\n",
        "    comparison_report += \"Historical Price Comparison:\\n\"\n",
        "    if predicted_price < historical_price:\n",
        "        comparison_report += \"The current price is below the historical average.\\n\"\n",
        "    elif predicted_price > historical_price:\n",
        "        comparison_report += \"The current price is above the historical average.\\n\"\n",
        "    else:\n",
        "        comparison_report += \"The current price matches the historical average.\\n\"\n",
        "\n",
        "    # Competitor Price Comparison\n",
        "    comparison_report += \"Competitor Price Comparison:\\n\"\n",
        "    for competitor, price in competitor_prices.items():\n",
        "        if predicted_price < price:\n",
        "            comparison_report += f\"The product is priced lower than {competitor} ({price}).\\n\"\n",
        "        elif predicted_price > price:\n",
        "            comparison_report += f\"The product is priced higher than {competitor} ({price}).\\n\"\n",
        "        else:\n",
        "            comparison_report += f\"The product is priced the same as {competitor} ({price}).\\n\"\n",
        "\n",
        "    # Retailer Price Comparison\n",
        "    comparison_report += \"Retailer Price Comparison:\\n\"\n",
        "    for retailer, price in retailer_prices.items():\n",
        "        if predicted_price < price:\n",
        "            comparison_report += f\"The product is priced lower than {retailer} ({price}).\\n\"\n",
        "        elif predicted_price > price:\n",
        "            comparison_report += f\"The product is priced higher than {retailer} ({price}).\\n\"\n",
        "        else:\n",
        "            comparison_report += f\"The product is priced the same as {retailer} ({price}).\\n\"\n",
        "\n",
        "    return comparison_report"
      ],
      "metadata": {
        "id": "DkCF2udmCiw8"
      },
      "execution_count": 38,
      "outputs": []
    },
    {
      "cell_type": "code",
      "source": [
        "# Example usage:\n",
        "product_name = \"Running Shoes\"\n",
        "category = \"Athletic\"\n",
        "brand = \"Nike\"\n",
        "size = 10"
      ],
      "metadata": {
        "id": "eJtlA40yDBwl"
      },
      "execution_count": 39,
      "outputs": []
    },
    {
      "cell_type": "code",
      "source": [
        "comparison_result = compare_prices(product_name, category, brand, size, model, tokenizer)\n",
        "print(comparison_result)"
      ],
      "metadata": {
        "colab": {
          "base_uri": "https://localhost:8080/"
        },
        "id": "opeO9XvfDDMR",
        "outputId": "9b1866a5-57b0-4d93-b372-c2f16dfa9113"
      },
      "execution_count": 40,
      "outputs": [
        {
          "output_type": "stream",
          "name": "stdout",
          "text": [
            "Product: Running Shoes\n",
            "Predicted Price: $5.99\n",
            "\n",
            "Historical Price Comparison:\n",
            "The current price is below the historical average.\n",
            "Competitor Price Comparison:\n",
            "The product is priced lower than Adidas (120).\n",
            "The product is priced lower than Reebok (95).\n",
            "Retailer Price Comparison:\n",
            "The product is priced lower than Nike Store (100).\n",
            "The product is priced lower than Retailer A (95).\n",
            "The product is priced lower than Retailer B (105).\n",
            "\n"
          ]
        }
      ]
    },
    {
      "cell_type": "code",
      "source": [
        "# Save the trained model\n",
        "torch.save(model.state_dict(), 'bert_price_prediction_model.pth')\n"
      ],
      "metadata": {
        "id": "Q7fl_skhDT-e"
      },
      "execution_count": 41,
      "outputs": []
    }
  ]
}